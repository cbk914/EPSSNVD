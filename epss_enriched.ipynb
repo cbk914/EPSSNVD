{
 "cells": [
  {
   "cell_type": "markdown",
   "id": "suburban-zoning",
   "metadata": {},
   "source": [
    "# EPSS / NVD Data Merge"
   ]
  },
  {
   "cell_type": "code",
   "execution_count": null,
   "id": "2dfd0e96",
   "metadata": {},
   "outputs": [],
   "source": [
    "%%capture\n",
    "!rm -rf jsondata\n",
    "!mkdir -p jsondata\n",
    "%cd jsondata\n",
    "!rm -rf *\n"
   ]
  },
  {
   "cell_type": "markdown",
   "id": "passive-bride",
   "metadata": {
    "tags": []
   },
   "source": [
    "### Import Python Libraries"
   ]
  },
  {
   "cell_type": "code",
   "execution_count": 30,
   "id": "sustained-reasoning",
   "metadata": {
    "tags": []
   },
   "outputs": [],
   "source": [
    "import glob\n",
    "import logging\n",
    "import json\n",
    "import numpy as np\n",
    "import pandas as pd\n",
    "import warnings\n",
    "from datetime import datetime\n",
    "\n",
    "\n",
    "logging.getLogger('matplotlib.font_manager').disabled = True\n",
    "warnings.filterwarnings(\"ignore\")\n"
   ]
  },
  {
   "cell_type": "markdown",
   "id": "deadly-example",
   "metadata": {},
   "source": [
    "## NVD Data"
   ]
  },
  {
   "cell_type": "code",
   "execution_count": 31,
   "id": "satisfactory-pontiac",
   "metadata": {
    "tags": []
   },
   "outputs": [],
   "source": [
    "row_accumulator = []\n",
    "for filename in glob.glob('nvdcve-1.1-*.json'):\n",
    "    with open(filename, 'r', encoding='utf-8') as f:\n",
    "        nvd_data = json.load(f)\n",
    "        for entry in nvd_data['CVE_Items']:\n",
    "            cve = entry['cve']['CVE_data_meta']['ID']\n",
    "            try:\n",
    "                published_date = entry['publishedDate']\n",
    "            except KeyError:\n",
    "                published_date = 'Missing_Data'\n",
    "            try:\n",
    "                attack_vector = entry['impact']['baseMetricV3']['cvssV3']['attackVector']\n",
    "            except KeyError:\n",
    "                attack_vector = 'Missing_Data'\n",
    "            try:\n",
    "                attack_complexity = entry['impact']['baseMetricV3']['cvssV3']['attackComplexity']\n",
    "            except KeyError:\n",
    "                attack_complexity = 'Missing_Data'\n",
    "            try:\n",
    "                privileges_required = entry['impact']['baseMetricV3']['cvssV3']['privilegesRequired']\n",
    "            except KeyError:\n",
    "                privileges_required = 'Missing_Data'\n",
    "            try:\n",
    "                user_interaction = entry['impact']['baseMetricV3']['cvssV3']['userInteraction']\n",
    "            except KeyError:\n",
    "                user_interaction = 'Missing_Data'\n",
    "            try:\n",
    "                scope = entry['impact']['baseMetricV3']['cvssV3']['scope']\n",
    "            except KeyError:\n",
    "                scope = 'Missing_Data'\n",
    "            try:\n",
    "                confidentiality_impact = entry['impact']['baseMetricV3']['cvssV3']['confidentialityImpact']\n",
    "            except KeyError:\n",
    "                confidentiality_impact = 'Missing_Data'\n",
    "            try:\n",
    "                integrity_impact = entry['impact']['baseMetricV3']['cvssV3']['integrityImpact']\n",
    "            except KeyError:\n",
    "                integrity_impact = 'Missing_Data'\n",
    "            try:\n",
    "                availability_impact = entry['impact']['baseMetricV3']['cvssV3']['availabilityImpact']\n",
    "            except KeyError:\n",
    "                availability_impact = 'Missing_Data'\n",
    "            try:\n",
    "                base_score = entry['impact']['baseMetricV3']['cvssV3']['baseScore']\n",
    "            except KeyError:\n",
    "                base_score = '0.0'\n",
    "            try:\n",
    "                base_severity = entry['impact']['baseMetricV3']['cvssV3']['baseSeverity']\n",
    "            except KeyError:\n",
    "                base_severity = 'Missing_Data'\n",
    "            try:\n",
    "                exploitability_score = entry['impact']['baseMetricV3']['exploitabilityScore']\n",
    "            except KeyError:\n",
    "                exploitability_score = 'Missing_Data'\n",
    "            try:\n",
    "                impact_score = entry['impact']['baseMetricV3']['impactScore']\n",
    "            except KeyError:\n",
    "                impact_score = 'Missing_Data'\n",
    "            try:\n",
    "                cwe = entry['cve']['problemtype']['problemtype_data'][0]['description'][0]['value']\n",
    "            except IndexError:\n",
    "                cwe = 'Missing_Data'\n",
    "            try:\n",
    "                description = entry['cve']['description']['description_data'][0]['value']\n",
    "            except IndexError:\n",
    "                description = ''\n",
    "            new_row = { \n",
    "                'CVE': cve, \n",
    "                'Published': published_date,\n",
    "                'BaseScore': base_score,\n",
    "                'BaseSeverity': base_severity,\n",
    "                'CWE': cwe,\n",
    "                'Scope': scope,\n",
    "                'AttackVector': attack_vector,\n",
    "                'AttackComplexity': attack_complexity,\n",
    "                'PrivilegesRequired': privileges_required,\n",
    "                'UserInteraction': user_interaction,\n",
    "                'Description': description\n",
    "            }\n",
    "            row_accumulator.append(new_row)\n",
    "    nvd = pd.DataFrame(row_accumulator)\n",
    "    \n",
    "nvd['Published'] = pd.to_datetime(nvd['Published']).apply(lambda x: x.date())\n"
   ]
  },
  {
   "cell_type": "code",
   "execution_count": 32,
   "id": "future-amino",
   "metadata": {},
   "outputs": [],
   "source": [
    "## EPSS Data"
   ]
  },
  {
   "cell_type": "code",
   "execution_count": 33,
   "id": "brief-manchester",
   "metadata": {},
   "outputs": [],
   "source": [
    "epss = pd.read_csv('epss_scores-current.csv', skiprows=1)\n"
   ]
  },
  {
   "cell_type": "code",
   "execution_count": 34,
   "id": "great-breathing",
   "metadata": {},
   "outputs": [],
   "source": [
    "## Combine & Clean Data"
   ]
  },
  {
   "cell_type": "code",
   "execution_count": 35,
   "id": "capable-petroleum",
   "metadata": {
    "tags": []
   },
   "outputs": [],
   "source": [
    "epss_nvd = pd.merge(nvd, epss, how='inner', left_on='CVE', right_on='cve')"
   ]
  },
  {
   "cell_type": "code",
   "execution_count": 36,
   "id": "pretty-change",
   "metadata": {},
   "outputs": [
    {
     "data": {
      "text/plain": [
       "['CVE',\n",
       " 'Published',\n",
       " 'BaseScore',\n",
       " 'BaseSeverity',\n",
       " 'CWE',\n",
       " 'Scope',\n",
       " 'AttackVector',\n",
       " 'AttackComplexity',\n",
       " 'PrivilegesRequired',\n",
       " 'UserInteraction',\n",
       " 'Description',\n",
       " 'cve',\n",
       " 'epss',\n",
       " 'percentile']"
      ]
     },
     "execution_count": 36,
     "metadata": {},
     "output_type": "execute_result"
    }
   ],
   "source": [
    "list(epss_nvd.columns.values)"
   ]
  },
  {
   "cell_type": "code",
   "execution_count": 37,
   "id": "express-toner",
   "metadata": {},
   "outputs": [],
   "source": [
    "epss_nvd = epss_nvd[['CVE', 'epss', 'BaseScore', 'BaseSeverity','CWE','Scope','AttackVector', 'AttackComplexity','PrivilegesRequired', 'UserInteraction', 'Description', 'Published']]\n",
    "epss_nvd  = epss_nvd.rename(columns={'epss': 'EPSS', 'BaseScore': 'CVSS_V3'})"
   ]
  },
  {
   "cell_type": "code",
   "execution_count": 39,
   "id": "otherwise-stylus",
   "metadata": {},
   "outputs": [],
   "source": [
    "## Save Data "
   ]
  },
  {
   "cell_type": "code",
   "execution_count": 40,
   "id": "baking-animation",
   "metadata": {},
   "outputs": [
    {
     "name": "stderr",
     "output_type": "stream",
     "text": [
      "IOPub data rate exceeded.\n",
      "The notebook server will temporarily stop sending output\n",
      "to the client in order to avoid crashing it.\n",
      "To change this limit, set the config variable\n",
      "`--NotebookApp.iopub_data_rate_limit`.\n",
      "\n",
      "Current values:\n",
      "NotebookApp.iopub_data_rate_limit=1000000.0 (bytes/sec)\n",
      "NotebookApp.rate_limit_window=3.0 (secs)\n",
      "\n"
     ]
    }
   ],
   "source": [
    "result =  epss_nvd.to_json(orient=\"records\")\n",
    "parsed = json.loads(result)\n",
    "print(json.dumps(parsed, indent=4))\n",
    "\n",
    "with open('epss_enriched.json', 'w', encoding='utf-8') as f:\n",
    "    json.dump(parsed, f, ensure_ascii=False, indent=4)\n",
    "\n",
    "epss_nvd.to_csv(\"epss_enriched.csv\", index=False)"
   ]
  }
 ],
 "metadata": {
  "kernelspec": {
   "display_name": "Python 3",
   "language": "python",
   "name": "python3"
  },
  "language_info": {
   "codemirror_mode": {
    "name": "ipython",
    "version": 3
   },
   "file_extension": ".py",
   "mimetype": "text/x-python",
   "name": "python",
   "nbconvert_exporter": "python",
   "pygments_lexer": "ipython3",
   "version": "3.7.3"
  }
 },
 "nbformat": 4,
 "nbformat_minor": 5
}
